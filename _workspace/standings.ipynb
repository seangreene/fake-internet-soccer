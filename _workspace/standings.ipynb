{
 "cells": [
  {
   "cell_type": "code",
   "execution_count": 211,
   "id": "ba6c1087-153d-44bf-827b-eca28e9ca369",
   "metadata": {},
   "outputs": [],
   "source": [
    "import requests as re\n",
    "import pandas as pd\n",
    "import altair as alt"
   ]
  },
  {
   "cell_type": "code",
   "execution_count": 26,
   "id": "95e75163-bd32-468e-9185-155e4fa87cbf",
   "metadata": {},
   "outputs": [],
   "source": [
    "url = \"https://www.fantrax.com/fxpa/req?leagueId=962c1utjlzbm8vb8\""
   ]
  },
  {
   "cell_type": "code",
   "execution_count": 27,
   "id": "8278a354-b100-45bb-80a0-aff4fa18cee3",
   "metadata": {},
   "outputs": [],
   "source": [
    "def makeRequest(gw):\n",
    "    payload = {\n",
    "      \"msgs\": [\n",
    "        {\n",
    "          \"method\": \"getStandings\",\n",
    "          \"data\": {\n",
    "            \"leagueId\": \"ablch5snljylssmy\",\n",
    "            \"timeframeType\": \"BY_PERIOD\",\n",
    "            \"timeStartType\": \"FROM_SEASON_START\",\n",
    "            \"period\": gw\n",
    "          }\n",
    "        }\n",
    "      ],\n",
    "      \"uiv\": 3,\n",
    "      \"refUrl\": f\"https://www.fantrax.com/fantasy/league/962c1utjlzbm8vb8/view=REGULAR_SEASON;timeframeType=BY_PERIOD;timeStartType=FROM_SEASON_START;period={gw}\",\n",
    "      \"dt\": 2,\n",
    "      \"at\": 0,\n",
    "      \"av\": \"3.0\",\n",
    "      \"tz\": \"America/Los_Angeles\",\n",
    "      \"v\": \"154.0.0\"\n",
    "    }\n",
    "    data = re.get(url, json=payload).json()\n",
    "    return data"
   ]
  },
  {
   "cell_type": "code",
   "execution_count": 37,
   "id": "57352805-672c-4844-a308-e9e5bb6740a6",
   "metadata": {},
   "outputs": [],
   "source": [
    "max_gw = 17"
   ]
  },
  {
   "cell_type": "code",
   "execution_count": 28,
   "id": "a08eea81-c115-4218-ba2a-decec578deec",
   "metadata": {},
   "outputs": [],
   "source": [
    "data = makeRequest(max_gw)"
   ]
  },
  {
   "cell_type": "code",
   "execution_count": 36,
   "id": "67c095de-f1ca-4f9c-8312-3e9ea7b8605b",
   "metadata": {},
   "outputs": [],
   "source": [
    "# data"
   ]
  },
  {
   "cell_type": "code",
   "execution_count": 46,
   "id": "ac618288-404b-4837-9895-ae946cfe5749",
   "metadata": {},
   "outputs": [],
   "source": [
    "results_list = []\n",
    "for gw in range(1,(max_gw+1)):\n",
    "\n",
    "    data = makeRequest(gw)\n",
    "    league_standings = data['responses'][0]['data']['tableList'][0]\n",
    "    \n",
    "    for row in league_standings['rows']:\n",
    "    \n",
    "        fixedCells = row['fixedCells']\n",
    "        cells = row['cells']\n",
    "    \n",
    "        result = {\n",
    "            'gw': gw,\n",
    "            'rank': fixedCells[0]['content'],\n",
    "            'team': fixedCells[1]['content'],\n",
    "            'win': cells[0]['content'],\n",
    "            'draw': cells[1]['content'],\n",
    "            'loss': cells[2]['content'],\n",
    "            'points': cells[3]['content'],\n",
    "            'win_pct': cells[4]['content'],\n",
    "            'for': cells[6]['content'],\n",
    "            'against': cells[7]['content'],\n",
    "            'streak': cells[8]['content'],\n",
    "        }\n",
    "    \n",
    "        results_list.append(result)"
   ]
  },
  {
   "cell_type": "code",
   "execution_count": 47,
   "id": "d042f404-cfc8-4af8-aad6-8d04a33fa947",
   "metadata": {},
   "outputs": [],
   "source": [
    "df = pd.DataFrame(results_list)"
   ]
  },
  {
   "cell_type": "code",
   "execution_count": 48,
   "id": "aa2e9b43-1dcd-4861-8431-0b96e935d1cc",
   "metadata": {},
   "outputs": [],
   "source": [
    "df['for'] = df['for'].str.replace(',','')\n",
    "df['against'] = df['against'].str.replace(',','')"
   ]
  },
  {
   "cell_type": "code",
   "execution_count": 49,
   "id": "284474cf-eedc-43d6-a734-602d266eefe7",
   "metadata": {},
   "outputs": [],
   "source": [
    "clean_df = df.astype( \n",
    "    {'win': 'int64',\n",
    "    'draw': 'int64',\n",
    "    'loss': 'int64',\n",
    "    'points': 'int64',\n",
    "    'win_pct': 'float32',\n",
    "    'for': 'float32',\n",
    "    'against': 'float32'}\n",
    ")"
   ]
  },
  {
   "cell_type": "code",
   "execution_count": 50,
   "id": "7b3b4d45-4689-4d4e-8602-165c1c766325",
   "metadata": {},
   "outputs": [
    {
     "data": {
      "text/html": [
       "<div>\n",
       "<style scoped>\n",
       "    .dataframe tbody tr th:only-of-type {\n",
       "        vertical-align: middle;\n",
       "    }\n",
       "\n",
       "    .dataframe tbody tr th {\n",
       "        vertical-align: top;\n",
       "    }\n",
       "\n",
       "    .dataframe thead th {\n",
       "        text-align: right;\n",
       "    }\n",
       "</style>\n",
       "<table border=\"1\" class=\"dataframe\">\n",
       "  <thead>\n",
       "    <tr style=\"text-align: right;\">\n",
       "      <th></th>\n",
       "      <th>gw</th>\n",
       "      <th>rank</th>\n",
       "      <th>team</th>\n",
       "      <th>win</th>\n",
       "      <th>draw</th>\n",
       "      <th>loss</th>\n",
       "      <th>points</th>\n",
       "      <th>win_pct</th>\n",
       "      <th>for</th>\n",
       "      <th>against</th>\n",
       "      <th>streak</th>\n",
       "    </tr>\n",
       "  </thead>\n",
       "  <tbody>\n",
       "  </tbody>\n",
       "</table>\n",
       "</div>"
      ],
      "text/plain": [
       "Empty DataFrame\n",
       "Columns: [gw, rank, team, win, draw, loss, points, win_pct, for, against, streak]\n",
       "Index: []"
      ]
     },
     "execution_count": 50,
     "metadata": {},
     "output_type": "execute_result"
    }
   ],
   "source": [
    "clean_df[clean_df.team == 'Seanhampton FC']"
   ]
  },
  {
   "cell_type": "code",
   "execution_count": 54,
   "id": "75e7f47a-125a-4fe3-9eba-34b6d1d16f38",
   "metadata": {},
   "outputs": [
    {
     "data": {
      "text/html": [
       "\n",
       "<style>\n",
       "  #altair-viz-0780cd3fd2154cf6ac2515c4b489eba4.vega-embed {\n",
       "    width: 100%;\n",
       "    display: flex;\n",
       "  }\n",
       "\n",
       "  #altair-viz-0780cd3fd2154cf6ac2515c4b489eba4.vega-embed details,\n",
       "  #altair-viz-0780cd3fd2154cf6ac2515c4b489eba4.vega-embed details summary {\n",
       "    position: relative;\n",
       "  }\n",
       "</style>\n",
       "<div id=\"altair-viz-0780cd3fd2154cf6ac2515c4b489eba4\"></div>\n",
       "<script type=\"text/javascript\">\n",
       "  var VEGA_DEBUG = (typeof VEGA_DEBUG == \"undefined\") ? {} : VEGA_DEBUG;\n",
       "  (function(spec, embedOpt){\n",
       "    let outputDiv = document.currentScript.previousElementSibling;\n",
       "    if (outputDiv.id !== \"altair-viz-0780cd3fd2154cf6ac2515c4b489eba4\") {\n",
       "      outputDiv = document.getElementById(\"altair-viz-0780cd3fd2154cf6ac2515c4b489eba4\");\n",
       "    }\n",
       "    const paths = {\n",
       "      \"vega\": \"https://cdn.jsdelivr.net/npm/vega@5?noext\",\n",
       "      \"vega-lib\": \"https://cdn.jsdelivr.net/npm/vega-lib?noext\",\n",
       "      \"vega-lite\": \"https://cdn.jsdelivr.net/npm/vega-lite@5.8.0?noext\",\n",
       "      \"vega-embed\": \"https://cdn.jsdelivr.net/npm/vega-embed@6?noext\",\n",
       "    };\n",
       "\n",
       "    function maybeLoadScript(lib, version) {\n",
       "      var key = `${lib.replace(\"-\", \"\")}_version`;\n",
       "      return (VEGA_DEBUG[key] == version) ?\n",
       "        Promise.resolve(paths[lib]) :\n",
       "        new Promise(function(resolve, reject) {\n",
       "          var s = document.createElement('script');\n",
       "          document.getElementsByTagName(\"head\")[0].appendChild(s);\n",
       "          s.async = true;\n",
       "          s.onload = () => {\n",
       "            VEGA_DEBUG[key] = version;\n",
       "            return resolve(paths[lib]);\n",
       "          };\n",
       "          s.onerror = () => reject(`Error loading script: ${paths[lib]}`);\n",
       "          s.src = paths[lib];\n",
       "        });\n",
       "    }\n",
       "\n",
       "    function showError(err) {\n",
       "      outputDiv.innerHTML = `<div class=\"error\" style=\"color:red;\">${err}</div>`;\n",
       "      throw err;\n",
       "    }\n",
       "\n",
       "    function displayChart(vegaEmbed) {\n",
       "      vegaEmbed(outputDiv, spec, embedOpt)\n",
       "        .catch(err => showError(`Javascript Error: ${err.message}<br>This usually means there's a typo in your chart specification. See the javascript console for the full traceback.`));\n",
       "    }\n",
       "\n",
       "    if(typeof define === \"function\" && define.amd) {\n",
       "      requirejs.config({paths});\n",
       "      require([\"vega-embed\"], displayChart, err => showError(`Error loading script: ${err.message}`));\n",
       "    } else {\n",
       "      maybeLoadScript(\"vega\", \"5\")\n",
       "        .then(() => maybeLoadScript(\"vega-lite\", \"5.8.0\"))\n",
       "        .then(() => maybeLoadScript(\"vega-embed\", \"6\"))\n",
       "        .catch(showError)\n",
       "        .then(() => displayChart(vegaEmbed));\n",
       "    }\n",
       "  })({\"config\": {\"view\": {\"continuousWidth\": 300, \"continuousHeight\": 300}}, \"layer\": [{\"mark\": {\"type\": \"line\", \"point\": true}, \"encoding\": {\"color\": {\"field\": \"team\", \"legend\": null, \"type\": \"nominal\"}, \"x\": {\"field\": \"gw\", \"scale\": {\"domain\": [0, 17]}, \"title\": \"Gameweek\", \"type\": \"quantitative\"}, \"y\": {\"field\": \"rank\", \"scale\": {\"domain\": [10, 1]}, \"title\": \"Rank\", \"type\": \"quantitative\"}}}, {\"mark\": {\"type\": \"text\", \"align\": \"left\", \"dx\": 5}, \"encoding\": {\"color\": {\"field\": \"team\", \"type\": \"nominal\"}, \"text\": {\"field\": \"team\", \"type\": \"nominal\"}, \"x\": {\"aggregate\": \"max\", \"field\": \"gw\", \"scale\": {\"domain\": [0, 17]}, \"type\": \"quantitative\"}, \"y\": {\"aggregate\": {\"argmax\": \"gw\"}, \"field\": \"rank\", \"scale\": {\"domain\": [10, 1]}, \"type\": \"nominal\"}}, \"transform\": [{\"window\": [{\"op\": \"rank\", \"field\": \"\", \"as\": \"rank\"}], \"groupby\": [\"gw\"], \"sort\": [{\"field\": \"rank\", \"order\": \"ascending\"}]}]}], \"data\": {\"name\": \"data-945394baa3c346993e901d74c609154c\"}, \"$schema\": \"https://vega.github.io/schema/vega-lite/v5.8.0.json\", \"datasets\": {\"data-945394baa3c346993e901d74c609154c\": [{\"gw\": 1, \"rank\": \"1\", \"team\": \"Magpies United\", \"win\": 1, \"draw\": 0, \"loss\": 0, \"points\": 3, \"win_pct\": 1.0, \"for\": 171.0, \"against\": 168.5, \"streak\": \"1 (W)\"}, {\"gw\": 1, \"rank\": \"2\", \"team\": \"RATABE\", \"win\": 1, \"draw\": 0, \"loss\": 0, \"points\": 3, \"win_pct\": 1.0, \"for\": 156.0, \"against\": 140.0, \"streak\": \"1 (W)\"}, {\"gw\": 1, \"rank\": \"3\", \"team\": \"HappyHaalandays\", \"win\": 1, \"draw\": 0, \"loss\": 0, \"points\": 3, \"win_pct\": 1.0, \"for\": 146.0, \"against\": 101.5, \"streak\": \"1 (W)\"}, {\"gw\": 1, \"rank\": \"4\", \"team\": \"TAAco Bell\", \"win\": 1, \"draw\": 0, \"loss\": 0, \"points\": 3, \"win_pct\": 1.0, \"for\": 137.0, \"against\": 131.0, \"streak\": \"1 (W)\"}, {\"gw\": 1, \"rank\": \"5\", \"team\": \"Benford FC\", \"win\": 1, \"draw\": 0, \"loss\": 0, \"points\": 3, \"win_pct\": 1.0, \"for\": 128.5, \"against\": 81.0, \"streak\": \"1 (W)\"}, {\"gw\": 1, \"rank\": \"6\", \"team\": \"Seanhampton\", \"win\": 0, \"draw\": 0, \"loss\": 1, \"points\": 0, \"win_pct\": 0.0, \"for\": 168.5, \"against\": 171.0, \"streak\": \"1 (L)\"}, {\"gw\": 1, \"rank\": \"7\", \"team\": \"Concept of a FPLan\", \"win\": 0, \"draw\": 0, \"loss\": 1, \"points\": 0, \"win_pct\": 0.0, \"for\": 140.0, \"against\": 156.0, \"streak\": \"1 (L)\"}, {\"gw\": 1, \"rank\": \"8\", \"team\": \"Cheasle FC\", \"win\": 0, \"draw\": 0, \"loss\": 1, \"points\": 0, \"win_pct\": 0.0, \"for\": 131.0, \"against\": 137.0, \"streak\": \"1 (L)\"}, {\"gw\": 1, \"rank\": \"9\", \"team\": \"New Zac on the Block\", \"win\": 0, \"draw\": 0, \"loss\": 1, \"points\": 0, \"win_pct\": 0.0, \"for\": 101.5, \"against\": 146.0, \"streak\": \"1 (L)\"}, {\"gw\": 1, \"rank\": \"10\", \"team\": \"Thottenham Hotsluts\", \"win\": 0, \"draw\": 0, \"loss\": 1, \"points\": 0, \"win_pct\": 0.0, \"for\": 81.0, \"against\": 128.5, \"streak\": \"1 (L)\"}, {\"gw\": 2, \"rank\": \"1\", \"team\": \"RATABE\", \"win\": 2, \"draw\": 0, \"loss\": 0, \"points\": 6, \"win_pct\": 1.0, \"for\": 345.5, \"against\": 293.5, \"streak\": \"2 (W)\"}, {\"gw\": 2, \"rank\": \"2\", \"team\": \"Magpies United\", \"win\": 2, \"draw\": 0, \"loss\": 0, \"points\": 6, \"win_pct\": 1.0, \"for\": 294.5, \"against\": 235.0, \"streak\": \"2 (W)\"}, {\"gw\": 2, \"rank\": \"3\", \"team\": \"Cheasle FC\", \"win\": 1, \"draw\": 0, \"loss\": 1, \"points\": 3, \"win_pct\": 0.5, \"for\": 324.5, \"against\": 252.0, \"streak\": \"1 (W)\"}, {\"gw\": 2, \"rank\": \"4\", \"team\": \"Concept of a FPLan\", \"win\": 1, \"draw\": 0, \"loss\": 1, \"points\": 3, \"win_pct\": 0.5, \"for\": 310.5, \"against\": 322.5, \"streak\": \"1 (W)\"}, {\"gw\": 2, \"rank\": \"5\", \"team\": \"TAAco Bell\", \"win\": 1, \"draw\": 0, \"loss\": 1, \"points\": 3, \"win_pct\": 0.5, \"for\": 303.5, \"against\": 301.5, \"streak\": \"1 (L)\"}, {\"gw\": 2, \"rank\": \"6\", \"team\": \"New Zac on the Block\", \"win\": 1, \"draw\": 0, \"loss\": 1, \"points\": 3, \"win_pct\": 0.5, \"for\": 282.0, \"against\": 298.5, \"streak\": \"1 (W)\"}, {\"gw\": 2, \"rank\": \"7\", \"team\": \"HappyHaalandays\", \"win\": 1, \"draw\": 0, \"loss\": 1, \"points\": 3, \"win_pct\": 0.5, \"for\": 261.0, \"against\": 295.0, \"streak\": \"1 (L)\"}, {\"gw\": 2, \"rank\": \"8\", \"team\": \"Benford FC\", \"win\": 1, \"draw\": 0, \"loss\": 1, \"points\": 3, \"win_pct\": 0.5, \"for\": 195.0, \"against\": 204.5, \"streak\": \"1 (L)\"}, {\"gw\": 2, \"rank\": \"9\", \"team\": \"Seanhampton\", \"win\": 0, \"draw\": 0, \"loss\": 2, \"points\": 0, \"win_pct\": 0.0, \"for\": 321.0, \"against\": 351.5, \"streak\": \"2 (L)\"}, {\"gw\": 2, \"rank\": \"10\", \"team\": \"Thottenham Hotsluts\", \"win\": 0, \"draw\": 0, \"loss\": 2, \"points\": 0, \"win_pct\": 0.0, \"for\": 234.5, \"against\": 318.0, \"streak\": \"2 (L)\"}, {\"gw\": 3, \"rank\": \"1\", \"team\": \"RATABE\", \"win\": 3, \"draw\": 0, \"loss\": 0, \"points\": 9, \"win_pct\": 1.0, \"for\": 466.5, \"against\": 405.0, \"streak\": \"3 (W)\"}, {\"gw\": 3, \"rank\": \"2\", \"team\": \"Cheasle FC\", \"win\": 2, \"draw\": 0, \"loss\": 1, \"points\": 6, \"win_pct\": 0.6669999957084656, \"for\": 474.5, \"against\": 394.0, \"streak\": \"2 (W)\"}, {\"gw\": 3, \"rank\": \"3\", \"team\": \"New Zac on the Block\", \"win\": 2, \"draw\": 0, \"loss\": 1, \"points\": 6, \"win_pct\": 0.6669999957084656, \"for\": 421.5, \"against\": 420.0, \"streak\": \"2 (W)\"}, {\"gw\": 3, \"rank\": \"4\", \"team\": \"HappyHaalandays\", \"win\": 2, \"draw\": 0, \"loss\": 1, \"points\": 6, \"win_pct\": 0.6669999957084656, \"for\": 386.0, \"against\": 401.5, \"streak\": \"1 (W)\"}, {\"gw\": 3, \"rank\": \"5\", \"team\": \"Magpies United\", \"win\": 2, \"draw\": 0, \"loss\": 1, \"points\": 6, \"win_pct\": 0.6669999957084656, \"for\": 383.0, \"against\": 353.5, \"streak\": \"1 (L)\"}, {\"gw\": 3, \"rank\": \"6\", \"team\": \"Concept of a FPLan\", \"win\": 1, \"draw\": 0, \"loss\": 2, \"points\": 3, \"win_pct\": 0.3330000042915344, \"for\": 417.0, \"against\": 447.5, \"streak\": \"1 (L)\"}, {\"gw\": 3, \"rank\": \"7\", \"team\": \"TAAco Bell\", \"win\": 1, \"draw\": 0, \"loss\": 2, \"points\": 3, \"win_pct\": 0.3330000042915344, \"for\": 415.0, \"against\": 422.5, \"streak\": \"2 (L)\"}, {\"gw\": 3, \"rank\": \"8\", \"team\": \"Thottenham Hotsluts\", \"win\": 1, \"draw\": 0, \"loss\": 2, \"points\": 3, \"win_pct\": 0.3330000042915344, \"for\": 353.0, \"against\": 406.5, \"streak\": \"1 (W)\"}, {\"gw\": 3, \"rank\": \"9\", \"team\": \"Benford FC\", \"win\": 1, \"draw\": 0, \"loss\": 2, \"points\": 3, \"win_pct\": 0.3330000042915344, \"for\": 316.5, \"against\": 344.0, \"streak\": \"2 (L)\"}, {\"gw\": 3, \"rank\": \"10\", \"team\": \"Seanhampton\", \"win\": 0, \"draw\": 0, \"loss\": 3, \"points\": 0, \"win_pct\": 0.0, \"for\": 463.0, \"against\": 501.5, \"streak\": \"3 (L)\"}, {\"gw\": 4, \"rank\": \"1\", \"team\": \"RATABE\", \"win\": 3, \"draw\": 0, \"loss\": 1, \"points\": 9, \"win_pct\": 0.75, \"for\": 623.0, \"against\": 575.0, \"streak\": \"1 (L)\"}, {\"gw\": 4, \"rank\": \"2\", \"team\": \"New Zac on the Block\", \"win\": 3, \"draw\": 0, \"loss\": 1, \"points\": 9, \"win_pct\": 0.75, \"for\": 579.0, \"against\": 525.0, \"streak\": \"3 (W)\"}, {\"gw\": 4, \"rank\": \"3\", \"team\": \"Magpies United\", \"win\": 3, \"draw\": 0, \"loss\": 1, \"points\": 9, \"win_pct\": 0.75, \"for\": 553.0, \"against\": 510.0, \"streak\": \"1 (W)\"}, {\"gw\": 4, \"rank\": \"4\", \"team\": \"HappyHaalandays\", \"win\": 3, \"draw\": 0, \"loss\": 1, \"points\": 9, \"win_pct\": 0.75, \"for\": 549.5, \"against\": 562.0, \"streak\": \"2 (W)\"}, {\"gw\": 4, \"rank\": \"5\", \"team\": \"Cheasle FC\", \"win\": 2, \"draw\": 0, \"loss\": 2, \"points\": 6, \"win_pct\": 0.5, \"for\": 610.0, \"against\": 538.5, \"streak\": \"1 (L)\"}, {\"gw\": 4, \"rank\": \"6\", \"team\": \"Benford FC\", \"win\": 2, \"draw\": 0, \"loss\": 2, \"points\": 6, \"win_pct\": 0.5, \"for\": 461.0, \"against\": 479.5, \"streak\": \"1 (W)\"}, {\"gw\": 4, \"rank\": \"7\", \"team\": \"Seanhampton\", \"win\": 1, \"draw\": 0, \"loss\": 3, \"points\": 3, \"win_pct\": 0.25, \"for\": 589.5, \"against\": 598.5, \"streak\": \"1 (W)\"}, {\"gw\": 4, \"rank\": \"8\", \"team\": \"TAAco Bell\", \"win\": 1, \"draw\": 0, \"loss\": 3, \"points\": 3, \"win_pct\": 0.25, \"for\": 575.5, \"against\": 586.0, \"streak\": \"3 (L)\"}, {\"gw\": 4, \"rank\": \"9\", \"team\": \"Concept of a FPLan\", \"win\": 1, \"draw\": 0, \"loss\": 3, \"points\": 3, \"win_pct\": 0.25, \"for\": 514.0, \"against\": 574.0, \"streak\": \"2 (L)\"}, {\"gw\": 4, \"rank\": \"10\", \"team\": \"Thottenham Hotsluts\", \"win\": 1, \"draw\": 0, \"loss\": 3, \"points\": 3, \"win_pct\": 0.25, \"for\": 458.0, \"against\": 564.0, \"streak\": \"1 (L)\"}, {\"gw\": 5, \"rank\": \"1\", \"team\": \"New Zac on the Block\", \"win\": 4, \"draw\": 0, \"loss\": 1, \"points\": 12, \"win_pct\": 0.800000011920929, \"for\": 751.5, \"against\": 667.5, \"streak\": \"4 (W)\"}, {\"gw\": 5, \"rank\": \"2\", \"team\": \"HappyHaalandays\", \"win\": 4, \"draw\": 0, \"loss\": 1, \"points\": 12, \"win_pct\": 0.800000011920929, \"for\": 725.0, \"against\": 695.0, \"streak\": \"3 (W)\"}, {\"gw\": 5, \"rank\": \"3\", \"team\": \"Cheasle FC\", \"win\": 3, \"draw\": 0, \"loss\": 2, \"points\": 9, \"win_pct\": 0.6000000238418579, \"for\": 773.5, \"against\": 689.0, \"streak\": \"1 (W)\"}, {\"gw\": 5, \"rank\": \"4\", \"team\": \"RATABE\", \"win\": 3, \"draw\": 0, \"loss\": 2, \"points\": 9, \"win_pct\": 0.6000000238418579, \"for\": 756.0, \"against\": 750.5, \"streak\": \"2 (L)\"}, {\"gw\": 5, \"rank\": \"5\", \"team\": \"Magpies United\", \"win\": 3, \"draw\": 0, \"loss\": 2, \"points\": 9, \"win_pct\": 0.6000000238418579, \"for\": 695.5, \"against\": 682.5, \"streak\": \"1 (L)\"}, {\"gw\": 5, \"rank\": \"6\", \"team\": \"Benford FC\", \"win\": 3, \"draw\": 0, \"loss\": 2, \"points\": 9, \"win_pct\": 0.6000000238418579, \"for\": 616.0, \"against\": 626.5, \"streak\": \"2 (W)\"}, {\"gw\": 5, \"rank\": \"7\", \"team\": \"TAAco Bell\", \"win\": 2, \"draw\": 0, \"loss\": 3, \"points\": 6, \"win_pct\": 0.4000000059604645, \"for\": 722.0, \"against\": 714.0, \"streak\": \"1 (W)\"}, {\"gw\": 5, \"rank\": \"8\", \"team\": \"Seanhampton\", \"win\": 1, \"draw\": 0, \"loss\": 4, \"points\": 3, \"win_pct\": 0.20000000298023224, \"for\": 717.5, \"against\": 745.0, \"streak\": \"1 (L)\"}, {\"gw\": 5, \"rank\": \"9\", \"team\": \"Concept of a FPLan\", \"win\": 1, \"draw\": 0, \"loss\": 4, \"points\": 3, \"win_pct\": 0.20000000298023224, \"for\": 661.0, \"against\": 729.0, \"streak\": \"3 (L)\"}, {\"gw\": 5, \"rank\": \"10\", \"team\": \"Thottenham Hotsluts\", \"win\": 1, \"draw\": 0, \"loss\": 4, \"points\": 3, \"win_pct\": 0.20000000298023224, \"for\": 608.5, \"against\": 727.5, \"streak\": \"2 (L)\"}, {\"gw\": 6, \"rank\": \"1\", \"team\": \"New Zac on the Block\", \"win\": 5, \"draw\": 0, \"loss\": 1, \"points\": 15, \"win_pct\": 0.8330000042915344, \"for\": 879.5, \"against\": 792.0, \"streak\": \"5 (W)\"}, {\"gw\": 6, \"rank\": \"2\", \"team\": \"HappyHaalandays\", \"win\": 5, \"draw\": 0, \"loss\": 1, \"points\": 15, \"win_pct\": 0.8330000042915344, \"for\": 865.5, \"against\": 824.0, \"streak\": \"4 (W)\"}, {\"gw\": 6, \"rank\": \"3\", \"team\": \"Cheasle FC\", \"win\": 4, \"draw\": 0, \"loss\": 2, \"points\": 12, \"win_pct\": 0.6669999957084656, \"for\": 935.5, \"against\": 804.0, \"streak\": \"2 (W)\"}, {\"gw\": 6, \"rank\": \"4\", \"team\": \"RATABE\", \"win\": 3, \"draw\": 0, \"loss\": 3, \"points\": 9, \"win_pct\": 0.5, \"for\": 880.5, \"against\": 878.5, \"streak\": \"3 (L)\"}, {\"gw\": 6, \"rank\": \"5\", \"team\": \"TAAco Bell\", \"win\": 3, \"draw\": 0, \"loss\": 3, \"points\": 9, \"win_pct\": 0.5, \"for\": 863.5, \"against\": 815.5, \"streak\": \"2 (W)\"}, {\"gw\": 6, \"rank\": \"6\", \"team\": \"Magpies United\", \"win\": 3, \"draw\": 0, \"loss\": 3, \"points\": 9, \"win_pct\": 0.5, \"for\": 810.5, \"against\": 844.5, \"streak\": \"2 (L)\"}, {\"gw\": 6, \"rank\": \"7\", \"team\": \"Benford FC\", \"win\": 3, \"draw\": 0, \"loss\": 3, \"points\": 9, \"win_pct\": 0.5, \"for\": 717.5, \"against\": 768.0, \"streak\": \"1 (L)\"}, {\"gw\": 6, \"rank\": \"8\", \"team\": \"Thottenham Hotsluts\", \"win\": 2, \"draw\": 0, \"loss\": 4, \"points\": 6, \"win_pct\": 0.3330000042915344, \"for\": 801.0, \"against\": 862.5, \"streak\": \"1 (W)\"}, {\"gw\": 6, \"rank\": \"9\", \"team\": \"Seanhampton\", \"win\": 1, \"draw\": 0, \"loss\": 5, \"points\": 3, \"win_pct\": 0.16699999570846558, \"for\": 846.5, \"against\": 885.5, \"streak\": \"2 (L)\"}, {\"gw\": 6, \"rank\": \"10\", \"team\": \"Concept of a FPLan\", \"win\": 1, \"draw\": 0, \"loss\": 5, \"points\": 3, \"win_pct\": 0.16699999570846558, \"for\": 796.0, \"against\": 921.5, \"streak\": \"4 (L)\"}, {\"gw\": 7, \"rank\": \"1\", \"team\": \"HappyHaalandays\", \"win\": 6, \"draw\": 0, \"loss\": 1, \"points\": 18, \"win_pct\": 0.8569999933242798, \"for\": 1035.5, \"against\": 921.0, \"streak\": \"5 (W)\"}, {\"gw\": 7, \"rank\": \"2\", \"team\": \"Cheasle FC\", \"win\": 5, \"draw\": 0, \"loss\": 2, \"points\": 15, \"win_pct\": 0.7139999866485596, \"for\": 1107.5, \"against\": 957.0, \"streak\": \"3 (W)\"}, {\"gw\": 7, \"rank\": \"3\", \"team\": \"New Zac on the Block\", \"win\": 5, \"draw\": 0, \"loss\": 2, \"points\": 15, \"win_pct\": 0.7139999866485596, \"for\": 1032.5, \"against\": 964.0, \"streak\": \"1 (L)\"}, {\"gw\": 7, \"rank\": \"4\", \"team\": \"TAAco Bell\", \"win\": 4, \"draw\": 0, \"loss\": 3, \"points\": 12, \"win_pct\": 0.5709999799728394, \"for\": 1047.5, \"against\": 909.0, \"streak\": \"3 (W)\"}, {\"gw\": 7, \"rank\": \"5\", \"team\": \"RATABE\", \"win\": 4, \"draw\": 0, \"loss\": 3, \"points\": 12, \"win_pct\": 0.5709999799728394, \"for\": 1041.5, \"against\": 1029.0, \"streak\": \"1 (W)\"}, {\"gw\": 7, \"rank\": \"6\", \"team\": \"Magpies United\", \"win\": 4, \"draw\": 0, \"loss\": 3, \"points\": 12, \"win_pct\": 0.5709999799728394, \"for\": 998.5, \"against\": 947.5, \"streak\": \"1 (W)\"}, {\"gw\": 7, \"rank\": \"7\", \"team\": \"Benford FC\", \"win\": 3, \"draw\": 0, \"loss\": 4, \"points\": 9, \"win_pct\": 0.42899999022483826, \"for\": 814.5, \"against\": 938.0, \"streak\": \"2 (L)\"}, {\"gw\": 7, \"rank\": \"8\", \"team\": \"Thottenham Hotsluts\", \"win\": 2, \"draw\": 0, \"loss\": 5, \"points\": 6, \"win_pct\": 0.28600001335144043, \"for\": 894.5, \"against\": 1046.5, \"streak\": \"1 (L)\"}, {\"gw\": 7, \"rank\": \"9\", \"team\": \"Seanhampton\", \"win\": 1, \"draw\": 0, \"loss\": 6, \"points\": 3, \"win_pct\": 0.14300000667572021, \"for\": 997.0, \"against\": 1046.5, \"streak\": \"3 (L)\"}, {\"gw\": 7, \"rank\": \"10\", \"team\": \"Concept of a FPLan\", \"win\": 1, \"draw\": 0, \"loss\": 6, \"points\": 3, \"win_pct\": 0.14300000667572021, \"for\": 899.0, \"against\": 1109.5, \"streak\": \"5 (L)\"}, {\"gw\": 8, \"rank\": \"1\", \"team\": \"Cheasle FC\", \"win\": 6, \"draw\": 0, \"loss\": 2, \"points\": 18, \"win_pct\": 0.75, \"for\": 1265.0, \"against\": 1088.5, \"streak\": \"4 (W)\"}, {\"gw\": 8, \"rank\": \"2\", \"team\": \"HappyHaalandays\", \"win\": 6, \"draw\": 0, \"loss\": 2, \"points\": 18, \"win_pct\": 0.75, \"for\": 1149.5, \"against\": 1057.0, \"streak\": \"1 (L)\"}, {\"gw\": 8, \"rank\": \"3\", \"team\": \"TAAco Bell\", \"win\": 5, \"draw\": 0, \"loss\": 3, \"points\": 15, \"win_pct\": 0.625, \"for\": 1187.5, \"against\": 1014.5, \"streak\": \"4 (W)\"}, {\"gw\": 8, \"rank\": \"4\", \"team\": \"New Zac on the Block\", \"win\": 5, \"draw\": 0, \"loss\": 3, \"points\": 15, \"win_pct\": 0.625, \"for\": 1144.5, \"against\": 1140.5, \"streak\": \"2 (L)\"}, {\"gw\": 8, \"rank\": \"5\", \"team\": \"RATABE\", \"win\": 4, \"draw\": 0, \"loss\": 4, \"points\": 12, \"win_pct\": 0.5, \"for\": 1173.0, \"against\": 1186.5, \"streak\": \"1 (L)\"}, {\"gw\": 8, \"rank\": \"6\", \"team\": \"Magpies United\", \"win\": 4, \"draw\": 0, \"loss\": 4, \"points\": 12, \"win_pct\": 0.5, \"for\": 1104.0, \"against\": 1087.5, \"streak\": \"1 (L)\"}, {\"gw\": 8, \"rank\": \"7\", \"team\": \"Benford FC\", \"win\": 4, \"draw\": 0, \"loss\": 4, \"points\": 12, \"win_pct\": 0.5, \"for\": 955.5, \"against\": 1033.0, \"streak\": \"1 (W)\"}, {\"gw\": 8, \"rank\": \"8\", \"team\": \"Thottenham Hotsluts\", \"win\": 3, \"draw\": 0, \"loss\": 5, \"points\": 9, \"win_pct\": 0.375, \"for\": 1030.5, \"against\": 1160.5, \"streak\": \"1 (W)\"}, {\"gw\": 8, \"rank\": \"9\", \"team\": \"Concept of a FPLan\", \"win\": 2, \"draw\": 0, \"loss\": 6, \"points\": 6, \"win_pct\": 0.25, \"for\": 1075.5, \"against\": 1221.5, \"streak\": \"1 (W)\"}, {\"gw\": 8, \"rank\": \"10\", \"team\": \"Seanhampton\", \"win\": 1, \"draw\": 0, \"loss\": 7, \"points\": 3, \"win_pct\": 0.125, \"for\": 1092.0, \"against\": 1187.5, \"streak\": \"4 (L)\"}, {\"gw\": 9, \"rank\": \"1\", \"team\": \"Cheasle FC\", \"win\": 7, \"draw\": 0, \"loss\": 2, \"points\": 21, \"win_pct\": 0.777999997138977, \"for\": 1444.5, \"against\": 1263.5, \"streak\": \"5 (W)\"}, {\"gw\": 9, \"rank\": \"2\", \"team\": \"HappyHaalandays\", \"win\": 7, \"draw\": 0, \"loss\": 2, \"points\": 21, \"win_pct\": 0.777999997138977, \"for\": 1291.0, \"against\": 1178.0, \"streak\": \"1 (W)\"}, {\"gw\": 9, \"rank\": \"3\", \"team\": \"TAAco Bell\", \"win\": 6, \"draw\": 0, \"loss\": 3, \"points\": 18, \"win_pct\": 0.6669999957084656, \"for\": 1323.0, \"against\": 1116.5, \"streak\": \"5 (W)\"}, {\"gw\": 9, \"rank\": \"4\", \"team\": \"RATABE\", \"win\": 5, \"draw\": 0, \"loss\": 4, \"points\": 15, \"win_pct\": 0.5559999942779541, \"for\": 1316.0, \"against\": 1326.5, \"streak\": \"1 (W)\"}, {\"gw\": 9, \"rank\": \"5\", \"team\": \"New Zac on the Block\", \"win\": 5, \"draw\": 0, \"loss\": 4, \"points\": 15, \"win_pct\": 0.5559999942779541, \"for\": 1246.5, \"against\": 1276.0, \"streak\": \"3 (L)\"}, {\"gw\": 9, \"rank\": \"6\", \"team\": \"Magpies United\", \"win\": 4, \"draw\": 0, \"loss\": 5, \"points\": 12, \"win_pct\": 0.4440000057220459, \"for\": 1225.0, \"against\": 1229.0, \"streak\": \"2 (L)\"}, {\"gw\": 9, \"rank\": \"7\", \"team\": \"Benford FC\", \"win\": 4, \"draw\": 0, \"loss\": 5, \"points\": 12, \"win_pct\": 0.4440000057220459, \"for\": 1095.5, \"against\": 1176.0, \"streak\": \"1 (L)\"}, {\"gw\": 9, \"rank\": \"8\", \"team\": \"Thottenham Hotsluts\", \"win\": 3, \"draw\": 0, \"loss\": 6, \"points\": 9, \"win_pct\": 0.3330000042915344, \"for\": 1120.5, \"against\": 1271.0, \"streak\": \"1 (L)\"}, {\"gw\": 9, \"rank\": \"9\", \"team\": \"Concept of a FPLan\", \"win\": 2, \"draw\": 0, \"loss\": 7, \"points\": 6, \"win_pct\": 0.22200000286102295, \"for\": 1250.5, \"against\": 1401.0, \"streak\": \"1 (L)\"}, {\"gw\": 9, \"rank\": \"10\", \"team\": \"Seanhampton\", \"win\": 2, \"draw\": 0, \"loss\": 7, \"points\": 6, \"win_pct\": 0.22200000286102295, \"for\": 1202.5, \"against\": 1277.5, \"streak\": \"1 (W)\"}, {\"gw\": 10, \"rank\": \"1\", \"team\": \"Cheasle FC\", \"win\": 7, \"draw\": 0, \"loss\": 3, \"points\": 21, \"win_pct\": 0.699999988079071, \"for\": 1583.0, \"against\": 1409.5, \"streak\": \"1 (L)\"}, {\"gw\": 10, \"rank\": \"2\", \"team\": \"TAAco Bell\", \"win\": 7, \"draw\": 0, \"loss\": 3, \"points\": 21, \"win_pct\": 0.699999988079071, \"for\": 1469.0, \"against\": 1255.0, \"streak\": \"6 (W)\"}, {\"gw\": 10, \"rank\": \"3\", \"team\": \"HappyHaalandays\", \"win\": 7, \"draw\": 0, \"loss\": 3, \"points\": 21, \"win_pct\": 0.699999988079071, \"for\": 1381.5, \"against\": 1329.0, \"streak\": \"1 (L)\"}, {\"gw\": 10, \"rank\": \"4\", \"team\": \"New Zac on the Block\", \"win\": 6, \"draw\": 0, \"loss\": 4, \"points\": 18, \"win_pct\": 0.6000000238418579, \"for\": 1397.5, \"against\": 1366.5, \"streak\": \"1 (W)\"}, {\"gw\": 10, \"rank\": \"5\", \"team\": \"RATABE\", \"win\": 5, \"draw\": 0, \"loss\": 5, \"points\": 15, \"win_pct\": 0.5, \"for\": 1448.5, \"against\": 1476.5, \"streak\": \"1 (L)\"}, {\"gw\": 10, \"rank\": \"6\", \"team\": \"Magpies United\", \"win\": 4, \"draw\": 0, \"loss\": 6, \"points\": 12, \"win_pct\": 0.4000000059604645, \"for\": 1342.0, \"against\": 1347.5, \"streak\": \"3 (L)\"}, {\"gw\": 10, \"rank\": \"7\", \"team\": \"Thottenham Hotsluts\", \"win\": 4, \"draw\": 0, \"loss\": 6, \"points\": 12, \"win_pct\": 0.4000000059604645, \"for\": 1311.0, \"against\": 1421.5, \"streak\": \"1 (W)\"}, {\"gw\": 10, \"rank\": \"8\", \"team\": \"Benford FC\", \"win\": 4, \"draw\": 0, \"loss\": 6, \"points\": 12, \"win_pct\": 0.4000000059604645, \"for\": 1246.0, \"against\": 1366.5, \"streak\": \"2 (L)\"}, {\"gw\": 10, \"rank\": \"9\", \"team\": \"Concept of a FPLan\", \"win\": 3, \"draw\": 0, \"loss\": 7, \"points\": 9, \"win_pct\": 0.30000001192092896, \"for\": 1400.5, \"against\": 1533.5, \"streak\": \"1 (W)\"}, {\"gw\": 10, \"rank\": \"10\", \"team\": \"Seanhampton\", \"win\": 3, \"draw\": 0, \"loss\": 7, \"points\": 9, \"win_pct\": 0.30000001192092896, \"for\": 1321.0, \"against\": 1394.5, \"streak\": \"2 (W)\"}, {\"gw\": 11, \"rank\": \"1\", \"team\": \"HappyHaalandays\", \"win\": 8, \"draw\": 0, \"loss\": 3, \"points\": 24, \"win_pct\": 0.7269999980926514, \"for\": 1527.5, \"against\": 1465.5, \"streak\": \"1 (W)\"}, {\"gw\": 11, \"rank\": \"2\", \"team\": \"Cheasle FC\", \"win\": 7, \"draw\": 0, \"loss\": 4, \"points\": 21, \"win_pct\": 0.6359999775886536, \"for\": 1719.5, \"against\": 1555.5, \"streak\": \"2 (L)\"}, {\"gw\": 11, \"rank\": \"3\", \"team\": \"TAAco Bell\", \"win\": 7, \"draw\": 0, \"loss\": 4, \"points\": 21, \"win_pct\": 0.6359999775886536, \"for\": 1606.0, \"against\": 1394.0, \"streak\": \"1 (L)\"}, {\"gw\": 11, \"rank\": \"4\", \"team\": \"New Zac on the Block\", \"win\": 7, \"draw\": 0, \"loss\": 4, \"points\": 21, \"win_pct\": 0.6359999775886536, \"for\": 1573.5, \"against\": 1511.5, \"streak\": \"2 (W)\"}, {\"gw\": 11, \"rank\": \"5\", \"team\": \"RATABE\", \"win\": 5, \"draw\": 0, \"loss\": 6, \"points\": 15, \"win_pct\": 0.45500001311302185, \"for\": 1573.5, \"against\": 1603.0, \"streak\": \"2 (L)\"}, {\"gw\": 11, \"rank\": \"6\", \"team\": \"Thottenham Hotsluts\", \"win\": 5, \"draw\": 0, \"loss\": 6, \"points\": 15, \"win_pct\": 0.45500001311302185, \"for\": 1437.5, \"against\": 1546.5, \"streak\": \"2 (W)\"}, {\"gw\": 11, \"rank\": \"7\", \"team\": \"Benford FC\", \"win\": 5, \"draw\": 0, \"loss\": 6, \"points\": 15, \"win_pct\": 0.45500001311302185, \"for\": 1436.5, \"against\": 1466.5, \"streak\": \"1 (W)\"}, {\"gw\": 11, \"rank\": \"8\", \"team\": \"Concept of a FPLan\", \"win\": 4, \"draw\": 0, \"loss\": 7, \"points\": 12, \"win_pct\": 0.36399999260902405, \"for\": 1539.5, \"against\": 1670.5, \"streak\": \"2 (W)\"}, {\"gw\": 11, \"rank\": \"9\", \"team\": \"Magpies United\", \"win\": 4, \"draw\": 0, \"loss\": 7, \"points\": 12, \"win_pct\": 0.36399999260902405, \"for\": 1442.0, \"against\": 1538.0, \"streak\": \"4 (L)\"}, {\"gw\": 11, \"rank\": \"10\", \"team\": \"Seanhampton\", \"win\": 3, \"draw\": 0, \"loss\": 8, \"points\": 9, \"win_pct\": 0.27300000190734863, \"for\": 1466.0, \"against\": 1570.5, \"streak\": \"1 (L)\"}, {\"gw\": 12, \"rank\": \"1\", \"team\": \"HappyHaalandays\", \"win\": 9, \"draw\": 0, \"loss\": 3, \"points\": 27, \"win_pct\": 0.75, \"for\": 1692.0, \"against\": 1604.0, \"streak\": \"2 (W)\"}, {\"gw\": 12, \"rank\": \"2\", \"team\": \"Cheasle FC\", \"win\": 8, \"draw\": 0, \"loss\": 4, \"points\": 24, \"win_pct\": 0.6669999957084656, \"for\": 1855.5, \"against\": 1687.0, \"streak\": \"1 (W)\"}, {\"gw\": 12, \"rank\": \"3\", \"team\": \"TAAco Bell\", \"win\": 8, \"draw\": 0, \"loss\": 4, \"points\": 24, \"win_pct\": 0.6669999957084656, \"for\": 1763.0, \"against\": 1519.0, \"streak\": \"1 (W)\"}, {\"gw\": 12, \"rank\": \"4\", \"team\": \"New Zac on the Block\", \"win\": 8, \"draw\": 0, \"loss\": 4, \"points\": 24, \"win_pct\": 0.6669999957084656, \"for\": 1726.0, \"against\": 1591.5, \"streak\": \"3 (W)\"}, {\"gw\": 12, \"rank\": \"5\", \"team\": \"Thottenham Hotsluts\", \"win\": 6, \"draw\": 0, \"loss\": 6, \"points\": 18, \"win_pct\": 0.5, \"for\": 1592.0, \"against\": 1675.0, \"streak\": \"3 (W)\"}, {\"gw\": 12, \"rank\": \"6\", \"team\": \"RATABE\", \"win\": 5, \"draw\": 0, \"loss\": 7, \"points\": 15, \"win_pct\": 0.4169999957084656, \"for\": 1698.5, \"against\": 1760.0, \"streak\": \"3 (L)\"}, {\"gw\": 12, \"rank\": \"7\", \"team\": \"Benford FC\", \"win\": 5, \"draw\": 0, \"loss\": 7, \"points\": 15, \"win_pct\": 0.4169999957084656, \"for\": 1516.5, \"against\": 1619.0, \"streak\": \"1 (L)\"}, {\"gw\": 12, \"rank\": \"8\", \"team\": \"Concept of a FPLan\", \"win\": 4, \"draw\": 0, \"loss\": 8, \"points\": 12, \"win_pct\": 0.3330000042915344, \"for\": 1678.0, \"against\": 1835.0, \"streak\": \"1 (L)\"}, {\"gw\": 12, \"rank\": \"9\", \"team\": \"Magpies United\", \"win\": 4, \"draw\": 0, \"loss\": 8, \"points\": 12, \"win_pct\": 0.3330000042915344, \"for\": 1570.5, \"against\": 1692.5, \"streak\": \"5 (L)\"}, {\"gw\": 12, \"rank\": \"10\", \"team\": \"Seanhampton\", \"win\": 3, \"draw\": 0, \"loss\": 9, \"points\": 9, \"win_pct\": 0.25, \"for\": 1597.5, \"against\": 1706.5, \"streak\": \"2 (L)\"}, {\"gw\": 13, \"rank\": \"1\", \"team\": \"TAAco Bell\", \"win\": 9, \"draw\": 0, \"loss\": 4, \"points\": 27, \"win_pct\": 0.6919999718666077, \"for\": 1947.0, \"against\": 1663.5, \"streak\": \"2 (W)\"}, {\"gw\": 13, \"rank\": \"2\", \"team\": \"HappyHaalandays\", \"win\": 9, \"draw\": 0, \"loss\": 4, \"points\": 27, \"win_pct\": 0.6919999718666077, \"for\": 1836.5, \"against\": 1788.0, \"streak\": \"1 (L)\"}, {\"gw\": 13, \"rank\": \"3\", \"team\": \"Cheasle FC\", \"win\": 8, \"draw\": 0, \"loss\": 5, \"points\": 24, \"win_pct\": 0.6150000095367432, \"for\": 1967.0, \"against\": 1852.5, \"streak\": \"1 (L)\"}, {\"gw\": 13, \"rank\": \"4\", \"team\": \"New Zac on the Block\", \"win\": 8, \"draw\": 0, \"loss\": 5, \"points\": 24, \"win_pct\": 0.6150000095367432, \"for\": 1828.0, \"against\": 1695.5, \"streak\": \"1 (L)\"}, {\"gw\": 13, \"rank\": \"5\", \"team\": \"Thottenham Hotsluts\", \"win\": 7, \"draw\": 0, \"loss\": 6, \"points\": 21, \"win_pct\": 0.5379999876022339, \"for\": 1696.0, \"against\": 1777.0, \"streak\": \"4 (W)\"}, {\"gw\": 13, \"rank\": \"6\", \"team\": \"RATABE\", \"win\": 6, \"draw\": 0, \"loss\": 7, \"points\": 18, \"win_pct\": 0.4620000123977661, \"for\": 1829.5, \"against\": 1885.0, \"streak\": \"1 (W)\"}, {\"gw\": 13, \"rank\": \"7\", \"team\": \"Benford FC\", \"win\": 6, \"draw\": 0, \"loss\": 7, \"points\": 18, \"win_pct\": 0.4620000123977661, \"for\": 1682.0, \"against\": 1730.5, \"streak\": \"1 (W)\"}, {\"gw\": 13, \"rank\": \"8\", \"team\": \"Seanhampton\", \"win\": 4, \"draw\": 0, \"loss\": 9, \"points\": 12, \"win_pct\": 0.30799999833106995, \"for\": 1786.0, \"against\": 1813.5, \"streak\": \"1 (W)\"}, {\"gw\": 13, \"rank\": \"9\", \"team\": \"Concept of a FPLan\", \"win\": 4, \"draw\": 0, \"loss\": 9, \"points\": 12, \"win_pct\": 0.30799999833106995, \"for\": 1785.0, \"against\": 2023.5, \"streak\": \"2 (L)\"}, {\"gw\": 13, \"rank\": \"10\", \"team\": \"Magpies United\", \"win\": 4, \"draw\": 0, \"loss\": 9, \"points\": 12, \"win_pct\": 0.30799999833106995, \"for\": 1695.5, \"against\": 1823.5, \"streak\": \"6 (L)\"}, {\"gw\": 14, \"rank\": \"1\", \"team\": \"HappyHaalandays\", \"win\": 10, \"draw\": 0, \"loss\": 4, \"points\": 30, \"win_pct\": 0.7139999866485596, \"for\": 2035.5, \"against\": 1954.0, \"streak\": \"1 (W)\"}, {\"gw\": 14, \"rank\": \"2\", \"team\": \"Cheasle FC\", \"win\": 9, \"draw\": 0, \"loss\": 5, \"points\": 27, \"win_pct\": 0.6430000066757202, \"for\": 2190.0, \"against\": 1968.5, \"streak\": \"1 (W)\"}, {\"gw\": 14, \"rank\": \"3\", \"team\": \"TAAco Bell\", \"win\": 9, \"draw\": 0, \"loss\": 5, \"points\": 27, \"win_pct\": 0.6430000066757202, \"for\": 2063.5, \"against\": 1825.5, \"streak\": \"1 (L)\"}, {\"gw\": 14, \"rank\": \"4\", \"team\": \"New Zac on the Block\", \"win\": 9, \"draw\": 0, \"loss\": 5, \"points\": 27, \"win_pct\": 0.6430000066757202, \"for\": 2009.0, \"against\": 1772.5, \"streak\": \"1 (W)\"}, {\"gw\": 14, \"rank\": \"5\", \"team\": \"Benford FC\", \"win\": 7, \"draw\": 0, \"loss\": 7, \"points\": 21, \"win_pct\": 0.5, \"for\": 1848.5, \"against\": 1881.5, \"streak\": \"2 (W)\"}, {\"gw\": 14, \"rank\": \"6\", \"team\": \"Thottenham Hotsluts\", \"win\": 7, \"draw\": 0, \"loss\": 7, \"points\": 21, \"win_pct\": 0.5, \"for\": 1812.0, \"against\": 2000.0, \"streak\": \"1 (L)\"}, {\"gw\": 14, \"rank\": \"7\", \"team\": \"RATABE\", \"win\": 6, \"draw\": 0, \"loss\": 8, \"points\": 18, \"win_pct\": 0.42899999022483826, \"for\": 1995.5, \"against\": 2084.0, \"streak\": \"1 (L)\"}, {\"gw\": 14, \"rank\": \"8\", \"team\": \"Seanhampton\", \"win\": 5, \"draw\": 0, \"loss\": 9, \"points\": 15, \"win_pct\": 0.3569999933242798, \"for\": 1948.0, \"against\": 1930.0, \"streak\": \"2 (W)\"}, {\"gw\": 14, \"rank\": \"9\", \"team\": \"Concept of a FPLan\", \"win\": 4, \"draw\": 0, \"loss\": 10, \"points\": 12, \"win_pct\": 0.28600001335144043, \"for\": 1936.0, \"against\": 2190.0, \"streak\": \"3 (L)\"}, {\"gw\": 14, \"rank\": \"10\", \"team\": \"Magpies United\", \"win\": 4, \"draw\": 0, \"loss\": 10, \"points\": 12, \"win_pct\": 0.28600001335144043, \"for\": 1772.5, \"against\": 2004.5, \"streak\": \"7 (L)\"}, {\"gw\": 15, \"rank\": \"1\", \"team\": \"Cheasle FC\", \"win\": 10, \"draw\": 0, \"loss\": 5, \"points\": 30, \"win_pct\": 0.6669999957084656, \"for\": 2340.5, \"against\": 2037.0, \"streak\": \"2 (W)\"}, {\"gw\": 15, \"rank\": \"2\", \"team\": \"TAAco Bell\", \"win\": 10, \"draw\": 0, \"loss\": 5, \"points\": 30, \"win_pct\": 0.6669999957084656, \"for\": 2210.5, \"against\": 1941.0, \"streak\": \"1 (W)\"}, {\"gw\": 15, \"rank\": \"3\", \"team\": \"HappyHaalandays\", \"win\": 10, \"draw\": 0, \"loss\": 5, \"points\": 30, \"win_pct\": 0.6669999957084656, \"for\": 2135.5, \"against\": 2056.5, \"streak\": \"1 (L)\"}, {\"gw\": 15, \"rank\": \"4\", \"team\": \"New Zac on the Block\", \"win\": 9, \"draw\": 0, \"loss\": 6, \"points\": 27, \"win_pct\": 0.6000000238418579, \"for\": 2119.0, \"against\": 1922.0, \"streak\": \"1 (L)\"}, {\"gw\": 15, \"rank\": \"5\", \"team\": \"Thottenham Hotsluts\", \"win\": 8, \"draw\": 0, \"loss\": 7, \"points\": 24, \"win_pct\": 0.5329999923706055, \"for\": 1945.5, \"against\": 2128.5, \"streak\": \"1 (W)\"}, {\"gw\": 15, \"rank\": \"6\", \"team\": \"RATABE\", \"win\": 7, \"draw\": 0, \"loss\": 8, \"points\": 21, \"win_pct\": 0.46700000762939453, \"for\": 2145.0, \"against\": 2194.0, \"streak\": \"1 (W)\"}, {\"gw\": 15, \"rank\": \"7\", \"team\": \"Benford FC\", \"win\": 7, \"draw\": 0, \"loss\": 8, \"points\": 21, \"win_pct\": 0.46700000762939453, \"for\": 1964.0, \"against\": 2028.5, \"streak\": \"1 (L)\"}, {\"gw\": 15, \"rank\": \"8\", \"team\": \"Seanhampton\", \"win\": 6, \"draw\": 0, \"loss\": 9, \"points\": 18, \"win_pct\": 0.4000000059604645, \"for\": 2050.5, \"against\": 2030.0, \"streak\": \"3 (W)\"}, {\"gw\": 15, \"rank\": \"9\", \"team\": \"Concept of a FPLan\", \"win\": 4, \"draw\": 0, \"loss\": 11, \"points\": 12, \"win_pct\": 0.2669999897480011, \"for\": 2064.5, \"against\": 2323.5, \"streak\": \"4 (L)\"}, {\"gw\": 15, \"rank\": \"10\", \"team\": \"Magpies United\", \"win\": 4, \"draw\": 0, \"loss\": 11, \"points\": 12, \"win_pct\": 0.2669999897480011, \"for\": 1841.0, \"against\": 2155.0, \"streak\": \"8 (L)\"}, {\"gw\": 16, \"rank\": \"1\", \"team\": \"Cheasle FC\", \"win\": 11, \"draw\": 0, \"loss\": 5, \"points\": 33, \"win_pct\": 0.6880000233650208, \"for\": 2515.0, \"against\": 2178.0, \"streak\": \"3 (W)\"}, {\"gw\": 16, \"rank\": \"2\", \"team\": \"HappyHaalandays\", \"win\": 11, \"draw\": 0, \"loss\": 5, \"points\": 33, \"win_pct\": 0.6880000233650208, \"for\": 2305.0, \"against\": 2209.5, \"streak\": \"1 (W)\"}, {\"gw\": 16, \"rank\": \"3\", \"team\": \"TAAco Bell\", \"win\": 10, \"draw\": 0, \"loss\": 6, \"points\": 30, \"win_pct\": 0.625, \"for\": 2342.5, \"against\": 2100.5, \"streak\": \"1 (L)\"}, {\"gw\": 16, \"rank\": \"4\", \"team\": \"New Zac on the Block\", \"win\": 9, \"draw\": 0, \"loss\": 7, \"points\": 27, \"win_pct\": 0.5619999766349792, \"for\": 2260.0, \"against\": 2096.5, \"streak\": \"2 (L)\"}, {\"gw\": 16, \"rank\": \"5\", \"team\": \"Thottenham Hotsluts\", \"win\": 9, \"draw\": 0, \"loss\": 7, \"points\": 27, \"win_pct\": 0.5619999766349792, \"for\": 2105.0, \"against\": 2260.5, \"streak\": \"2 (W)\"}, {\"gw\": 16, \"rank\": \"6\", \"team\": \"RATABE\", \"win\": 8, \"draw\": 0, \"loss\": 8, \"points\": 24, \"win_pct\": 0.5, \"for\": 2299.0, \"against\": 2283.5, \"streak\": \"2 (W)\"}, {\"gw\": 16, \"rank\": \"7\", \"team\": \"Benford FC\", \"win\": 7, \"draw\": 0, \"loss\": 9, \"points\": 21, \"win_pct\": 0.43799999356269836, \"for\": 2117.0, \"against\": 2198.0, \"streak\": \"2 (L)\"}, {\"gw\": 16, \"rank\": \"8\", \"team\": \"Seanhampton\", \"win\": 6, \"draw\": 0, \"loss\": 10, \"points\": 18, \"win_pct\": 0.375, \"for\": 2140.0, \"against\": 2184.0, \"streak\": \"1 (L)\"}, {\"gw\": 16, \"rank\": \"9\", \"team\": \"Concept of a FPLan\", \"win\": 5, \"draw\": 0, \"loss\": 11, \"points\": 15, \"win_pct\": 0.31200000643730164, \"for\": 2215.0, \"against\": 2426.5, \"streak\": \"1 (W)\"}, {\"gw\": 16, \"rank\": \"10\", \"team\": \"Magpies United\", \"win\": 4, \"draw\": 0, \"loss\": 12, \"points\": 12, \"win_pct\": 0.25, \"for\": 1944.0, \"against\": 2305.5, \"streak\": \"9 (L)\"}, {\"gw\": 17, \"rank\": \"1\", \"team\": \"Cheasle FC\", \"win\": 11, \"draw\": 0, \"loss\": 5, \"points\": 33, \"win_pct\": 0.6880000233650208, \"for\": 2515.0, \"against\": 2178.0, \"streak\": \"3 (W)\"}, {\"gw\": 17, \"rank\": \"2\", \"team\": \"HappyHaalandays\", \"win\": 11, \"draw\": 0, \"loss\": 5, \"points\": 33, \"win_pct\": 0.6880000233650208, \"for\": 2305.0, \"against\": 2209.5, \"streak\": \"1 (W)\"}, {\"gw\": 17, \"rank\": \"3\", \"team\": \"TAAco Bell\", \"win\": 10, \"draw\": 0, \"loss\": 6, \"points\": 30, \"win_pct\": 0.625, \"for\": 2342.5, \"against\": 2100.5, \"streak\": \"1 (L)\"}, {\"gw\": 17, \"rank\": \"4\", \"team\": \"New Zac on the Block\", \"win\": 9, \"draw\": 0, \"loss\": 7, \"points\": 27, \"win_pct\": 0.5619999766349792, \"for\": 2260.0, \"against\": 2096.5, \"streak\": \"2 (L)\"}, {\"gw\": 17, \"rank\": \"5\", \"team\": \"Thottenham Hotsluts\", \"win\": 9, \"draw\": 0, \"loss\": 7, \"points\": 27, \"win_pct\": 0.5619999766349792, \"for\": 2105.0, \"against\": 2260.5, \"streak\": \"2 (W)\"}, {\"gw\": 17, \"rank\": \"6\", \"team\": \"RATABE\", \"win\": 8, \"draw\": 0, \"loss\": 8, \"points\": 24, \"win_pct\": 0.5, \"for\": 2299.0, \"against\": 2283.5, \"streak\": \"2 (W)\"}, {\"gw\": 17, \"rank\": \"7\", \"team\": \"Benford FC\", \"win\": 7, \"draw\": 0, \"loss\": 9, \"points\": 21, \"win_pct\": 0.43799999356269836, \"for\": 2117.0, \"against\": 2198.0, \"streak\": \"2 (L)\"}, {\"gw\": 17, \"rank\": \"8\", \"team\": \"Seanhampton\", \"win\": 6, \"draw\": 0, \"loss\": 10, \"points\": 18, \"win_pct\": 0.375, \"for\": 2140.0, \"against\": 2184.0, \"streak\": \"1 (L)\"}, {\"gw\": 17, \"rank\": \"9\", \"team\": \"Concept of a FPLan\", \"win\": 5, \"draw\": 0, \"loss\": 11, \"points\": 15, \"win_pct\": 0.31200000643730164, \"for\": 2215.0, \"against\": 2426.5, \"streak\": \"1 (W)\"}, {\"gw\": 17, \"rank\": \"10\", \"team\": \"Magpies United\", \"win\": 4, \"draw\": 0, \"loss\": 12, \"points\": 12, \"win_pct\": 0.25, \"for\": 1944.0, \"against\": 2305.5, \"streak\": \"9 (L)\"}]}}, {\"mode\": \"vega-lite\"});\n",
       "</script>"
      ],
      "text/plain": [
       "alt.LayerChart(...)"
      ]
     },
     "execution_count": 54,
     "metadata": {},
     "output_type": "execute_result"
    }
   ],
   "source": [
    "data = clean_df\n",
    "\n",
    "chart = alt.Chart(data).mark_line(point=True).encode(\n",
    "    x = alt.X('gw', scale=alt.Scale(domain=[0, max_gw]), title=\"Gameweek\"),\n",
    "    y=alt.Y('rank:Q', scale=alt.Scale(domain=[10,1]), title=\"Rank\"),\n",
    "    color=alt.Color(\"team\", legend=None),\n",
    ")\n",
    "\n",
    "labels = alt.Chart(data).mark_text(\n",
    "    align='left', dx=5\n",
    ").encode(\n",
    "    x = alt.X('max(gw)', scale=alt.Scale(domain=[0, max_gw])),\n",
    "    y=alt.Y('rank', aggregate={'argmax': 'gw'}, scale=alt.Scale(domain=[10,1])),\n",
    "    text='team:N',\n",
    "    color='team:N',\n",
    ").transform_window(\n",
    "    rank=\"rank()\",\n",
    "    sort=[alt.SortField(\"rank\", order=\"ascending\")],\n",
    "    groupby=[\"gw\"]\n",
    ")\n",
    "chart + labels"
   ]
  },
  {
   "cell_type": "code",
   "execution_count": 210,
   "id": "2f054ddd-f51b-497b-a73a-16867aaafd28",
   "metadata": {},
   "outputs": [],
   "source": [
    "clean_df.to_csv('standings.csv', index=False)"
   ]
  },
  {
   "cell_type": "code",
   "execution_count": null,
   "id": "1c17d076-014e-4e18-b46b-22bfe48307a6",
   "metadata": {},
   "outputs": [],
   "source": []
  }
 ],
 "metadata": {
  "kernelspec": {
   "display_name": "Python 3 (ipykernel)",
   "language": "python",
   "name": "python3"
  },
  "language_info": {
   "codemirror_mode": {
    "name": "ipython",
    "version": 3
   },
   "file_extension": ".py",
   "mimetype": "text/x-python",
   "name": "python",
   "nbconvert_exporter": "python",
   "pygments_lexer": "ipython3",
   "version": "3.8.18"
  }
 },
 "nbformat": 4,
 "nbformat_minor": 5
}
