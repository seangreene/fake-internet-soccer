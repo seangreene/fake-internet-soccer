{
 "cells": [
  {
   "cell_type": "code",
   "execution_count": 14,
   "id": "ed3a659d-d9da-4996-8f06-d584c5acfe90",
   "metadata": {},
   "outputs": [],
   "source": [
    "import os\n",
    "import pandas as pd"
   ]
  },
  {
   "cell_type": "code",
   "execution_count": null,
   "id": "cc16f3a0-d629-4d63-863f-68b7426ce2b7",
   "metadata": {},
   "outputs": [],
   "source": [
    "### honestly this notebook doesn't really need to exist anymore"
   ]
  },
  {
   "cell_type": "code",
   "execution_count": 17,
   "id": "c9665e8f-6a97-4976-9e18-7a43d096b127",
   "metadata": {},
   "outputs": [],
   "source": [
    "def pivot2datawrapper(df, f):\n",
    "    pivot_df = pd.pivot(df, index='gw', columns='team', values='rank').reset_index()\n",
    "    pivot_df.to_csv(f'data/output/datawrapper/{f}', index=False)"
   ]
  },
  {
   "cell_type": "code",
   "execution_count": 18,
   "id": "473eee42-b140-457c-a223-95121596b3a6",
   "metadata": {},
   "outputs": [],
   "source": [
    "path = \"data/output/standings\"\n",
    "dir_list = os.listdir(path)\n",
    "dir_list.remove('.ipynb_checkpoints')\n",
    "\n",
    "df_list = []\n",
    "for f in dir_list:\n",
    "    df = pd.read_csv(f'{path}/{f}')\n",
    "    df['season'] = f.replace('standings-season-','').replace('.csv','')\n",
    "    df_list.append(df)\n",
    "\n",
    "    pivot2datawrapper(df, f)"
   ]
  },
  {
   "cell_type": "code",
   "execution_count": 7,
   "id": "b4426541-471d-4165-94b0-6531fee612c5",
   "metadata": {},
   "outputs": [],
   "source": [
    "all_seasons = pd.concat(df_list)"
   ]
  },
  {
   "cell_type": "code",
   "execution_count": 8,
   "id": "9d615f72-61c2-4f47-927d-303ebb83b9ae",
   "metadata": {},
   "outputs": [],
   "source": [
    "all_seasons.to_csv('data/output/all-seasons.csv', index=False)"
   ]
  }
 ],
 "metadata": {
  "kernelspec": {
   "display_name": "Python 3 (ipykernel)",
   "language": "python",
   "name": "python3"
  },
  "language_info": {
   "codemirror_mode": {
    "name": "ipython",
    "version": 3
   },
   "file_extension": ".py",
   "mimetype": "text/x-python",
   "name": "python",
   "nbconvert_exporter": "python",
   "pygments_lexer": "ipython3",
   "version": "3.9.6"
  }
 },
 "nbformat": 4,
 "nbformat_minor": 5
}
