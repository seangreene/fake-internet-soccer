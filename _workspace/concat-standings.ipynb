{
 "cells": [
  {
   "cell_type": "code",
   "execution_count": 15,
   "id": "ed3a659d-d9da-4996-8f06-d584c5acfe90",
   "metadata": {},
   "outputs": [],
   "source": [
    "import os\n",
    "import pandas as pd"
   ]
  },
  {
   "cell_type": "code",
   "execution_count": 27,
   "id": "473eee42-b140-457c-a223-95121596b3a6",
   "metadata": {},
   "outputs": [],
   "source": [
    "path = \"data/output/standings\"\n",
    "dir_list = os.listdir(path)\n",
    "\n",
    "df_list = []\n",
    "for f in dir_list:\n",
    "    df = pd.read_csv(f'{path}/{f}')\n",
    "    df['season'] = f.replace('standings-season-','').replace('.csv','')\n",
    "    df_list.append(df)"
   ]
  },
  {
   "cell_type": "code",
   "execution_count": 28,
   "id": "b4426541-471d-4165-94b0-6531fee612c5",
   "metadata": {},
   "outputs": [],
   "source": [
    "all_seasons = pd.concat(df_list)"
   ]
  },
  {
   "cell_type": "code",
   "execution_count": 29,
   "id": "9d615f72-61c2-4f47-927d-303ebb83b9ae",
   "metadata": {},
   "outputs": [],
   "source": [
    "all_seasons.to_csv('data/output/all-seasons.csv', index=False)"
   ]
  }
 ],
 "metadata": {
  "kernelspec": {
   "display_name": "Python 3 (ipykernel)",
   "language": "python",
   "name": "python3"
  },
  "language_info": {
   "codemirror_mode": {
    "name": "ipython",
    "version": 3
   },
   "file_extension": ".py",
   "mimetype": "text/x-python",
   "name": "python",
   "nbconvert_exporter": "python",
   "pygments_lexer": "ipython3",
   "version": "3.9.6"
  }
 },
 "nbformat": 4,
 "nbformat_minor": 5
}
